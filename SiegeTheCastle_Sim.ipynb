{
 "cells": [
  {
   "cell_type": "markdown",
   "metadata": {},
   "source": [
    "# Siege the Castle Sim Sandbox"
   ]
  },
  {
   "cell_type": "code",
   "execution_count": 3,
   "metadata": {},
   "outputs": [],
   "source": [
    "# Read in turn outcomes and put into dictionary\n",
    "\n",
    "import csv\n",
    "reader = csv.reader(open('C:\\\\Users\\\\brian\\\\Documents\\\\GitHub\\\\SiegeTheCastle_Sim\\\\01_load\\\\load.csv'))\n",
    "\n",
    "turnOutcomes = {}\n",
    "for row in reader:\n",
    "    key = row[0]\n",
    "    if key in turnOutcomes:\n",
    "        # implement your duplicate row handling here\n",
    "        pass\n",
    "    turnOutcomes[key] = row[1:]"
   ]
  },
  {
   "cell_type": "code",
   "execution_count": null,
   "metadata": {},
   "outputs": [],
   "source": []
  },
  {
   "cell_type": "code",
   "execution_count": 4,
   "metadata": {},
   "outputs": [
    {
     "name": "stdout",
     "output_type": "stream",
     "text": [
      "625 20000 400 0 400 0\n"
     ]
    }
   ],
   "source": [
    "# Set Initial Values / Settings\n",
    "\n",
    "KingStartingLives = 625\n",
    "KingStartingGold = 20000\n",
    "Clan1StartingLives = 400\n",
    "Clan1StartingGold = 0\n",
    "Clan2StartingLives = 400\n",
    "Clan2StartingGold = 0\n",
    "print(KingStartingLives, KingStartingGold, Clan1StartingLives, Clan1StartingGold, Clan2StartingLives, Clan2StartingGold)"
   ]
  },
  {
   "cell_type": "code",
   "execution_count": 5,
   "metadata": {},
   "outputs": [
    {
     "name": "stdout",
     "output_type": "stream",
     "text": [
      "625 20000 400 0 400 0\n",
      "0 0 0 0\n"
     ]
    }
   ],
   "source": [
    "# Set Load Current Values at start of round\n",
    "KingCurrentLives = KingStartingLives\n",
    "KingCurrentGold = KingStartingGold\n",
    "Clan1CurrentLives = Clan1StartingLives\n",
    "Clan1CurrentGold = Clan1StartingGold\n",
    "Clan2CurrentLives = Clan2StartingLives\n",
    "Clan2CurrentGold = Clan2StartingGold\n",
    "print(KingCurrentLives, KingCurrentGold, Clan1CurrentLives, Clan1CurrentGold, Clan2CurrentLives, Clan2CurrentGold)\n",
    "\n",
    "EndKingLife = 0\n",
    "EndKingGold = 0\n",
    "EndClan1Life = 0\n",
    "EndClan2Life = 0\n",
    "print(EndKingLife,EndKingGold,EndClan1Life, EndClan2Life)"
   ]
  },
  {
   "cell_type": "code",
   "execution_count": 6,
   "metadata": {},
   "outputs": [
    {
     "name": "stdout",
     "output_type": "stream",
     "text": [
      "3 4 3\n",
      "2 0 1\n",
      "2 B M\n",
      "2BM\n"
     ]
    }
   ],
   "source": [
    "# Generate Turn Actions\n",
    "\n",
    "import random\n",
    "\n",
    "KingAction = random.randint(1,4)\n",
    "Clan1Action = random.randint(1,4)\n",
    "Clan2Action = random.randint(1,4)\n",
    "\n",
    "if KingAction == 3:\n",
    "    KingAttack = random.randint(1,2)\n",
    "else:\n",
    "    KingAttack = 0\n",
    "    \n",
    "if Clan1Action == 3:\n",
    "    Clan1Attack = random.randint(1,2)\n",
    "else:\n",
    "    Clan1Attack = 0\n",
    "    \n",
    "if Clan2Action == 3:\n",
    "    Clan2Attack = random.randint(1,2)\n",
    "else:\n",
    "    Clan2Attack = 0\n",
    "\n",
    "print(KingAction, Clan1Action, Clan2Action)\n",
    "print(KingAttack, Clan1Attack, Clan2Attack)\n",
    "\n",
    "# Map Turn Action into turn key\n",
    "\n",
    "if KingAction == 1:\n",
    "    KingMove = 'F'\n",
    "if KingAction == 2:\n",
    "    KingMove = 'P'\n",
    "if KingAction == 3:\n",
    "    if KingAttack == 1:\n",
    "        KingMove = '1'\n",
    "    else:\n",
    "        KingMove = '2'\n",
    "if KingAction == 4:\n",
    "    KingMove = 'T'\n",
    "    \n",
    "if Clan1Action == 1:\n",
    "    Clan1Move = 'S'\n",
    "if Clan1Action == 2:\n",
    "    Clan1Move = 'P'\n",
    "if Clan1Action == 3:\n",
    "    if Clan1Attack == 1:\n",
    "        Clan1Move = 'M'\n",
    "    else:\n",
    "        Clan1Move = 'L'\n",
    "if Clan1Action == 4:\n",
    "    Clan1Move = 'B'\n",
    "\n",
    "if Clan2Action == 1:\n",
    "    Clan2Move = 'S'\n",
    "if Clan2Action == 2:\n",
    "    Clan2Move = 'P'\n",
    "if Clan2Action == 3:\n",
    "    if Clan2Attack == 1:\n",
    "        Clan2Move = 'M'\n",
    "    else:\n",
    "        Clan2Move = 'L'\n",
    "if Clan2Action == 4:\n",
    "    Clan2Move = 'B'\n",
    "    \n",
    "print(KingMove, Clan1Move, Clan2Move)\n",
    "\n",
    "turnKey = KingMove+Clan1Move+Clan2Move\n",
    "\n",
    "print(turnKey)"
   ]
  },
  {
   "cell_type": "code",
   "execution_count": 7,
   "metadata": {},
   "outputs": [
    {
     "name": "stdout",
     "output_type": "stream",
     "text": [
      "['Attack Clan #2', 'Bolster', 'Attack (Money)', '0', '0', '50', '0', '-100', '0']\n",
      "0 0 50 0 -100 0\n"
     ]
    }
   ],
   "source": [
    "# pull turn outcomes from dictionary using turnKey\n",
    "\n",
    "moves = turnOutcomes[turnKey]\n",
    "\n",
    "print(moves)\n",
    "\n",
    "KingLivesChange = int(moves[3])\n",
    "KingGoldChange = int(moves[4])\n",
    "Clan1LivesChange = int(moves[5])\n",
    "Clan1GoldChange = int(moves[6])\n",
    "Clan2LivesChange = int(moves[7])\n",
    "Clan2GoldChange = int(moves[8])\n",
    "\n",
    "print(KingLivesChange, KingGoldChange, Clan1LivesChange, Clan1GoldChange, Clan2LivesChange, Clan2GoldChange)"
   ]
  },
  {
   "cell_type": "code",
   "execution_count": 8,
   "metadata": {},
   "outputs": [
    {
     "name": "stdout",
     "output_type": "stream",
     "text": [
      "['KingAction', 'Action1', 'Action2', 'KingLifeChange', 'KingMoneyChange', 'LifeChange1', 'MoneyChange1', 'LifeChange2', 'MoneyChange2']\n"
     ]
    }
   ],
   "source": [
    "print(turnOutcomes['Key'])"
   ]
  },
  {
   "cell_type": "code",
   "execution_count": 9,
   "metadata": {
    "scrolled": true
   },
   "outputs": [
    {
     "name": "stdout",
     "output_type": "stream",
     "text": [
      "625 20000 450 0 300 0\n"
     ]
    }
   ],
   "source": [
    "# Apply Turn Outcome\n",
    "KingCurrentLives += KingLivesChange\n",
    "KingCurrentGold += KingGoldChange\n",
    "Clan1CurrentLives += Clan1LivesChange\n",
    "Clan1CurrentGold += Clan1GoldChange\n",
    "Clan2CurrentLives += Clan2LivesChange\n",
    "Clan2CurrentGold += Clan2GoldChange\n",
    "print(KingCurrentLives, KingCurrentGold, Clan1CurrentLives, Clan1CurrentGold, Clan2CurrentLives, Clan2CurrentGold)"
   ]
  },
  {
   "cell_type": "code",
   "execution_count": 10,
   "metadata": {},
   "outputs": [],
   "source": [
    "# Check if end game scenario is met\n",
    "    \n",
    "if KingCurrentLives <= 0:\n",
    "    EndKingLife = 1\n",
    "if KingCurrentGold <= 0:\n",
    "    EndKingGold = 1\n",
    "if Clan1CurrentLives <= 0:\n",
    "    EndClan1Life = 1\n",
    "if Clan2CurrentLives <= 0:\n",
    "    EndClan2Life = 1\n",
    "    \n"
   ]
  },
  {
   "cell_type": "markdown",
   "metadata": {},
   "source": [
    "TO DO:\n",
    "- build functions out of above\n",
    "- build function to check for win condition\n",
    "- build loop to run until win condition\n",
    "- build ability to write # of turns, win condition\n",
    "- build ability to log individual turns within game\n",
    "\n",
    "IMPROVEMENTS:\n",
    "- pass in flags from excel spreadsheet, and do calculation in python so we can factor in the current values\n",
    "- improve probability"
   ]
  },
  {
   "cell_type": "markdown",
   "metadata": {},
   "source": [
    "# Model 1:\n",
    "Rules/Assumptions\n",
    "- 3 player game\n",
    "- 25% percent chance between 4 move options\n",
    "    - 50% for attack options\n",
    "- no bolster charge\n",
    "- no tax is always worth 3750 gold (2500 + 625*2)\n",
    "- default settings"
   ]
  },
  {
   "cell_type": "code",
   "execution_count": 78,
   "metadata": {},
   "outputs": [],
   "source": [
    "NumberOfSimulatedGames = 1000"
   ]
  },
  {
   "cell_type": "code",
   "execution_count": 79,
   "metadata": {
    "scrolled": true
   },
   "outputs": [],
   "source": [
    "import random\n",
    "import pandas as pd\n",
    "\n",
    "# Read in turn outcomes and put into dictionary\n",
    "\n",
    "import csv\n",
    "reader = csv.reader(open('C:\\\\Users\\\\brian\\\\Documents\\\\GitHub\\\\SiegeTheCastle_Sim\\\\01_load\\\\load.csv'))\n",
    "\n",
    "turnOutcomes = {}\n",
    "for row in reader:\n",
    "    key = row[0]\n",
    "    if key in turnOutcomes:\n",
    "        # implement your duplicate row handling here\n",
    "        pass\n",
    "    turnOutcomes[key] = row[1:]\n",
    "\n",
    "# Create DataFrames\n",
    "dfTurns = pd.DataFrame(columns=['Game', 'Turn', 'Actions'])\n",
    "dfGames = pd.DataFrame(columns=['Game','NumTurns','EndKingLife','EndKingGold','EndClan1Life','EndClan2Life'])\n",
    "\n",
    "# Set Initial Values / Settings\n",
    "\n",
    "KingStartingLives = 625\n",
    "KingStartingGold = 20000\n",
    "Clan1StartingLives = 400\n",
    "Clan1StartingGold = 0\n",
    "Clan2StartingLives = 400\n",
    "Clan2StartingGold = 0\n",
    "#print(KingStartingLives, KingStartingGold, Clan1StartingLives, Clan1StartingGold, Clan2StartingLives, Clan2StartingGold)\n",
    "\n",
    "##### START GAME LOOPS\n",
    "GameCount = 1\n",
    "\n",
    "while GameCount <= NumberOfSimulatedGames:\n",
    "\n",
    "    # Set Load Current Values at start of round\n",
    "    KingCurrentLives = KingStartingLives\n",
    "    KingCurrentGold = KingStartingGold\n",
    "    Clan1CurrentLives = Clan1StartingLives\n",
    "    Clan1CurrentGold = Clan1StartingGold\n",
    "    Clan2CurrentLives = Clan2StartingLives\n",
    "    Clan2CurrentGold = Clan2StartingGold\n",
    "    #print(KingCurrentLives, KingCurrentGold, Clan1CurrentLives, Clan1CurrentGold, Clan2CurrentLives, Clan2CurrentGold)\n",
    "\n",
    "    # Set End Game Condition Flags\n",
    "    EndKingLife = 0\n",
    "    EndKingGold = 0\n",
    "    EndClan1Life = 0\n",
    "    EndClan2Life = 0\n",
    "    #print(EndKingLife,EndKingGold,EndClan1Life, EndClan2Life)\n",
    "\n",
    "    ### START TURN LOOP\n",
    "    TurnCount = 1\n",
    "\n",
    "    while EndKingLife+EndKingGold+EndClan1Life+EndClan2Life == 0:\n",
    "        #print(TurnCount)\n",
    "        #### Generate a Turn Action\n",
    "\n",
    "        KingAction = random.randint(1,4)\n",
    "        Clan1Action = random.randint(1,4)\n",
    "        Clan2Action = random.randint(1,4)\n",
    "\n",
    "        if KingAction == 3:\n",
    "            KingAttack = random.randint(1,2)\n",
    "        else:\n",
    "            KingAttack = 0\n",
    "\n",
    "        if Clan1Action == 3:\n",
    "            Clan1Attack = random.randint(1,2)\n",
    "        else:\n",
    "            Clan1Attack = 0\n",
    "\n",
    "        if Clan2Action == 3:\n",
    "            Clan2Attack = random.randint(1,2)\n",
    "        else:\n",
    "            Clan2Attack = 0\n",
    "\n",
    "        #print(KingAction, Clan1Action, Clan2Action)\n",
    "        #print(KingAttack, Clan1Attack, Clan2Attack)\n",
    "\n",
    "        # Map Turn Action into turn key\n",
    "\n",
    "        if KingAction == 1:\n",
    "            KingMove = 'F'\n",
    "        if KingAction == 2:\n",
    "            KingMove = 'P'\n",
    "        if KingAction == 3:\n",
    "            if KingAttack == 1:\n",
    "                KingMove = '1'\n",
    "            else:\n",
    "                KingMove = '2'\n",
    "        if KingAction == 4:\n",
    "            KingMove = 'T'\n",
    "\n",
    "        if Clan1Action == 1:\n",
    "            Clan1Move = 'S'\n",
    "        if Clan1Action == 2:\n",
    "            Clan1Move = 'P'\n",
    "        if Clan1Action == 3:\n",
    "            if Clan1Attack == 1:\n",
    "                Clan1Move = 'M'\n",
    "            else:\n",
    "                Clan1Move = 'L'\n",
    "        if Clan1Action == 4:\n",
    "            Clan1Move = 'B'\n",
    "\n",
    "        if Clan2Action == 1:\n",
    "            Clan2Move = 'S'\n",
    "        if Clan2Action == 2:\n",
    "            Clan2Move = 'P'\n",
    "        if Clan2Action == 3:\n",
    "            if Clan2Attack == 1:\n",
    "                Clan2Move = 'M'\n",
    "            else:\n",
    "                Clan2Move = 'L'\n",
    "        if Clan2Action == 4:\n",
    "            Clan2Move = 'B'\n",
    "\n",
    "        #print(KingMove, Clan1Move, Clan2Move)\n",
    "\n",
    "        turnKey = KingMove+Clan1Move+Clan2Move\n",
    "\n",
    "        #print(turnKey)\n",
    "\n",
    "        # pull turn outcomes from dictionary using turnKey\n",
    "\n",
    "        moves = turnOutcomes[turnKey]\n",
    "\n",
    "        #print(moves)\n",
    "\n",
    "        KingLivesChange = int(moves[3])\n",
    "        KingGoldChange = int(moves[4])\n",
    "        Clan1LivesChange = int(moves[5])\n",
    "        Clan1GoldChange = int(moves[6])\n",
    "        Clan2LivesChange = int(moves[7])\n",
    "        Clan2GoldChange = int(moves[8])\n",
    "\n",
    "        #print(KingLivesChange, KingGoldChange, Clan1LivesChange, Clan1GoldChange, Clan2LivesChange, Clan2GoldChange)\n",
    "\n",
    "        # Apply Turn Outcome\n",
    "        KingCurrentLives += KingLivesChange\n",
    "        KingCurrentGold += KingGoldChange\n",
    "        Clan1CurrentLives += Clan1LivesChange\n",
    "        Clan1CurrentGold += Clan1GoldChange\n",
    "        Clan2CurrentLives += Clan2LivesChange\n",
    "        Clan2CurrentGold += Clan2GoldChange\n",
    "        #print(KingCurrentLives, KingCurrentGold, Clan1CurrentLives, Clan1CurrentGold, Clan2CurrentLives, Clan2CurrentGold)\n",
    "\n",
    "        if KingCurrentLives <= 0:\n",
    "            EndKingLife = 1\n",
    "        if KingCurrentGold <= 0:\n",
    "            EndKingGold = 1\n",
    "        if Clan1CurrentLives <= 0:\n",
    "            EndClan1Life = 1\n",
    "        if Clan2CurrentLives <= 0:\n",
    "            EndClan2Life = 1\n",
    "\n",
    "        dfTurnsTemp = pd.DataFrame([[GameCount,TurnCount,turnKey]],columns=['Game', 'Turn', 'Actions'])\n",
    "        dfTurns = dfTurns.append(dfTurnsTemp)\n",
    "        # increment Turn Count\n",
    "        TurnCount += 1\n",
    "\n",
    "        #print(KingCurrentLives, KingCurrentGold, Clan1CurrentLives, Clan1CurrentGold, Clan2CurrentLives, Clan2CurrentGold)\n",
    "\n",
    "####### TURN LOOP END\n",
    "\n",
    "    dfGamesTemp = pd.DataFrame([[GameCount,TurnCount,EndKingLife,EndKingGold,EndClan1Life,EndClan2Life]], columns=['Game','NumTurns','EndKingLife','EndKingGold','EndClan1Life','EndClan2Life'])\n",
    "    dfGames = dfGames.append(dfGamesTemp)\n",
    "    \n",
    "    GameCount += 1\n",
    "\n",
    "###### GAME LOOP END\n"
   ]
  },
  {
   "cell_type": "code",
   "execution_count": 80,
   "metadata": {
    "scrolled": true
   },
   "outputs": [
    {
     "name": "stdout",
     "output_type": "stream",
     "text": [
      "Average Turns: 10.634\n",
      "Games Ended by King Running Out of Life: 128\n",
      "Games Ended by King Running Out of Gold: 32\n",
      "Games Ended by Clan 1 Running out of Life: 435\n",
      "Games Ended by Clan 2 Running out of Life: 440\n"
     ]
    }
   ],
   "source": [
    "print('Average Turns: '+ str(dfGames['NumTurns'].mean()))\n",
    "print('Games Ended by King Running Out of Life: '+ str(dfGames['EndKingLife'].sum()))\n",
    "print('Games Ended by King Running Out of Gold: '+ str(dfGames['EndKingGold'].sum()))\n",
    "print('Games Ended by Clan 1 Running out of Life: '+ str(dfGames['EndClan1Life'].sum()))\n",
    "print('Games Ended by Clan 2 Running out of Life: '+ str(dfGames['EndClan2Life'].sum()))"
   ]
  },
  {
   "cell_type": "markdown",
   "metadata": {},
   "source": [
    "## 11/28/2020: Move Turn Outcome calcs into python"
   ]
  },
  {
   "cell_type": "code",
   "execution_count": 2,
   "metadata": {},
   "outputs": [],
   "source": [
    "# Read in turn outcomes and put into dictionary\n",
    "\n",
    "import csv\n",
    "reader = csv.reader(open('C:\\\\Users\\\\brian\\\\Documents\\\\GitHub\\\\SiegeTheCastle_Sim\\\\01_load\\\\load_flags.csv'))\n",
    "turnOutcomes = {}\n",
    "for row in reader:\n",
    "    key = row[0]\n",
    "    if key in turnOutcomes:\n",
    "        # implement your duplicate row handling here\n",
    "        pass\n",
    "    turnOutcomes[key] = row[1:]"
   ]
  },
  {
   "cell_type": "code",
   "execution_count": 3,
   "metadata": {},
   "outputs": [
    {
     "name": "stdout",
     "output_type": "stream",
     "text": [
      "{'Key': ['King Action', 'Clan #1 Action', 'Clan #2 Action', 'Clan 1 Pillage Attempt', 'Clan 2 Pillage Attempt', 'Clan 1 Siege Attempt', 'Clan 2 Siege Attempt', 'Clan 1 Attack Clan 2 Attempt', 'Clan 2 Attack Clan 1 Attempt', 'Clan 1 Siege Success', 'Clan 2 Siege Success', 'King Attack Clan 1 Success', 'King Attack Clan 2 Success', 'Clan 1 Pillage Sucess', 'Clan 2 Pillage Sucess', 'Clan 1 attack Clan 2 (Money) Success', 'Clan 2 attack Clan 1 (Money) Success', 'Clan 1 attack Clan 2 (Lives) Success', 'Clan 2 attack Clan 1 (Lives) Success', 'King Tax', 'Clan 1 Bolster', 'Clan 2 Bolster', 'Counter Attack'], 'FSS': ['Fortify', 'Siege', 'Siege', '0', '0', '1', '1', '0', '0', '0', '0', '0', '0', '0', '0', '0', '0', '0', '0', '0', '0', '0', '0'], 'FSP': ['Fortify', 'Siege', 'Pillage', '0', '1', '1', '0', '0', '0', '0', '0', '0', '0', '0', '1', '0', '0', '0', '0', '0', '0', '0', '0'], 'FSM': ['Fortify', 'Siege', 'Attack (Money)', '0', '0', '1', '0', '0', '1', '0', '0', '0', '0', '0', '0', '0', '1', '0', '0', '0', '0', '0', '0'], 'FSL': ['Fortify', 'Siege', 'Attack (Lives)', '0', '0', '1', '0', '0', '1', '0', '0', '0', '0', '0', '0', '0', '0', '0', '1', '0', '0', '0', '0'], 'FSB': ['Fortify', 'Siege', 'Bolster', '0', '0', '1', '0', '0', '0', '0', '0', '0', '0', '0', '0', '0', '0', '0', '0', '0', '0', '1', '0'], 'FPS': ['Fortify', 'Pillage', 'Siege', '1', '0', '0', '1', '0', '0', '0', '0', '0', '0', '1', '0', '0', '0', '0', '0', '0', '0', '0', '0'], 'FPP': ['Fortify', 'Pillage', 'Pillage', '1', '1', '0', '0', '0', '0', '0', '0', '0', '0', '1', '1', '0', '0', '0', '0', '0', '0', '0', '0'], 'FPM': ['Fortify', 'Pillage', 'Attack (Money)', '1', '0', '0', '0', '0', '1', '0', '0', '0', '0', '1', '0', '0', '1', '0', '0', '0', '0', '0', '0'], 'FPL': ['Fortify', 'Pillage', 'Attack (Lives)', '1', '0', '0', '0', '0', '1', '0', '0', '0', '0', '1', '0', '0', '0', '0', '1', '0', '0', '0', '0'], 'FPB': ['Fortify', 'Pillage', 'Bolster', '1', '0', '0', '0', '0', '0', '0', '0', '0', '0', '1', '0', '0', '0', '0', '0', '0', '0', '1', '0'], 'FMS': ['Fortify', 'Attack (Money)', 'Siege', '0', '0', '0', '1', '1', '0', '0', '0', '0', '0', '0', '0', '1', '0', '0', '0', '0', '0', '0', '0'], 'FMP': ['Fortify', 'Attack (Money)', 'Pillage', '0', '1', '0', '0', '1', '0', '0', '0', '0', '0', '0', '1', '1', '0', '0', '0', '0', '0', '0', '0'], 'FMM': ['Fortify', 'Attack (Money)', 'Attack (Money)', '0', '0', '0', '0', '1', '1', '0', '0', '0', '0', '0', '0', '1', '1', '0', '0', '0', '0', '0', '0'], 'FML': ['Fortify', 'Attack (Money)', 'Attack (Lives)', '0', '0', '0', '0', '1', '1', '0', '0', '0', '0', '0', '0', '1', '0', '0', '1', '0', '0', '0', '0'], 'FMB': ['Fortify', 'Attack (Money)', 'Bolster', '0', '0', '0', '0', '1', '0', '0', '0', '0', '0', '0', '0', '0', '0', '0', '0', '0', '0', '1', '0'], 'FLS': ['Fortify', 'Attack (Lives)', 'Siege', '0', '0', '0', '1', '1', '0', '0', '0', '0', '0', '0', '0', '0', '0', '1', '0', '0', '0', '0', '0'], 'FLP': ['Fortify', 'Attack (Lives)', 'Pillage', '0', '1', '0', '0', '1', '0', '0', '0', '0', '0', '0', '1', '0', '0', '1', '0', '0', '0', '0', '0'], 'FLM': ['Fortify', 'Attack (Lives)', 'Attack (Money)', '0', '0', '0', '0', '1', '1', '0', '0', '0', '0', '0', '0', '0', '1', '1', '0', '0', '0', '0', '0'], 'FLL': ['Fortify', 'Attack (Lives)', 'Attack (Lives)', '0', '0', '0', '0', '1', '1', '0', '0', '0', '0', '0', '0', '0', '0', '1', '1', '0', '0', '0', '0'], 'FLB': ['Fortify', 'Attack (Lives)', 'Bolster', '0', '0', '0', '0', '1', '0', '0', '0', '0', '0', '0', '0', '0', '0', '0', '0', '0', '0', '1', '0'], 'FBS': ['Fortify', 'Bolster', 'Siege', '0', '0', '0', '1', '0', '0', '0', '0', '0', '0', '0', '0', '0', '0', '0', '0', '0', '1', '0', '0'], 'FBP': ['Fortify', 'Bolster', 'Pillage', '0', '1', '0', '0', '0', '0', '0', '0', '0', '0', '0', '1', '0', '0', '0', '0', '0', '1', '0', '0'], 'FBM': ['Fortify', 'Bolster', 'Attack (Money)', '0', '0', '0', '0', '0', '1', '0', '0', '0', '0', '0', '0', '0', '0', '0', '0', '0', '1', '0', '0'], 'FBL': ['Fortify', 'Bolster', 'Attack (Lives)', '0', '0', '0', '0', '0', '1', '0', '0', '0', '0', '0', '0', '0', '0', '0', '0', '0', '1', '0', '0'], 'FBB': ['Fortify', 'Bolster', 'Bolster', '0', '0', '0', '0', '0', '0', '0', '0', '0', '0', '0', '0', '0', '0', '0', '0', '0', '1', '1', '0'], 'PSS': ['Protect', 'Siege', 'Siege', '0', '0', '1', '1', '0', '0', '1', '1', '0', '0', '0', '0', '0', '0', '0', '0', '0', '0', '0', '0'], 'PSP': ['Protect', 'Siege', 'Pillage', '0', '1', '1', '0', '0', '0', '0', '0', '0', '0', '0', '0', '0', '0', '0', '0', '0', '0', '0', '0'], 'PSM': ['Protect', 'Siege', 'Attack (Money)', '0', '0', '1', '0', '0', '1', '0', '0', '0', '0', '0', '0', '0', '1', '0', '0', '0', '0', '0', '0'], 'PSL': ['Protect', 'Siege', 'Attack (Lives)', '0', '0', '1', '0', '0', '1', '0', '0', '0', '0', '0', '0', '0', '0', '0', '1', '0', '0', '0', '0'], 'PSB': ['Protect', 'Siege', 'Bolster', '0', '0', '1', '0', '0', '0', '0', '0', '0', '0', '0', '0', '0', '0', '0', '0', '0', '0', '1', '0'], 'PPS': ['Protect', 'Pillage', 'Siege', '1', '0', '0', '1', '0', '0', '0', '0', '0', '0', '0', '0', '0', '0', '0', '0', '0', '0', '0', '0'], 'PPP': ['Protect', 'Pillage', 'Pillage', '1', '1', '0', '0', '0', '0', '0', '0', '0', '0', '0', '0', '0', '0', '0', '0', '0', '0', '0', '0'], 'PPM': ['Protect', 'Pillage', 'Attack (Money)', '1', '0', '0', '0', '0', '1', '0', '0', '0', '0', '0', '0', '0', '1', '0', '0', '0', '0', '0', '0'], 'PPL': ['Protect', 'Pillage', 'Attack (Lives)', '1', '0', '0', '0', '0', '1', '0', '0', '0', '0', '0', '0', '0', '0', '0', '1', '0', '0', '0', '0'], 'PPB': ['Protect', 'Pillage', 'Bolster', '1', '0', '0', '0', '0', '0', '0', '0', '0', '0', '0', '0', '0', '0', '0', '0', '0', '0', '1', '0'], 'PMS': ['Protect', 'Attack (Money)', 'Siege', '0', '0', '0', '1', '1', '0', '0', '0', '0', '0', '0', '0', '1', '0', '0', '0', '0', '0', '0', '0'], 'PMP': ['Protect', 'Attack (Money)', 'Pillage', '0', '1', '0', '0', '1', '0', '0', '0', '0', '0', '0', '0', '1', '0', '0', '0', '0', '0', '0', '0'], 'PMM': ['Protect', 'Attack (Money)', 'Attack (Money)', '0', '0', '0', '0', '1', '1', '0', '0', '0', '0', '0', '0', '1', '1', '0', '0', '0', '0', '0', '0'], 'PML': ['Protect', 'Attack (Money)', 'Attack (Lives)', '0', '0', '0', '0', '1', '1', '0', '0', '0', '0', '0', '0', '1', '0', '0', '1', '0', '0', '0', '0'], 'PMB': ['Protect', 'Attack (Money)', 'Bolster', '0', '0', '0', '0', '1', '0', '0', '0', '0', '0', '0', '0', '0', '0', '0', '0', '0', '0', '1', '0'], 'PLS': ['Protect', 'Attack (Lives)', 'Siege', '0', '0', '0', '1', '1', '0', '0', '0', '0', '0', '0', '0', '0', '0', '1', '0', '0', '0', '0', '0'], 'PLP': ['Protect', 'Attack (Lives)', 'Pillage', '0', '1', '0', '0', '1', '0', '0', '0', '0', '0', '0', '0', '0', '0', '1', '0', '0', '0', '0', '0'], 'PLM': ['Protect', 'Attack (Lives)', 'Attack (Money)', '0', '0', '0', '0', '1', '1', '0', '0', '0', '0', '0', '0', '0', '1', '1', '0', '0', '0', '0', '0'], 'PLL': ['Protect', 'Attack (Lives)', 'Attack (Lives)', '0', '0', '0', '0', '1', '1', '0', '0', '0', '0', '0', '0', '0', '0', '1', '1', '0', '0', '0', '0'], 'PLB': ['Protect', 'Attack (Lives)', 'Bolster', '0', '0', '0', '0', '1', '0', '0', '0', '0', '0', '0', '0', '0', '0', '0', '0', '0', '0', '1', '0'], 'PBS': ['Protect', 'Bolster', 'Siege', '0', '0', '0', '1', '0', '0', '0', '0', '0', '0', '0', '0', '0', '0', '0', '0', '0', '1', '0', '0'], 'PBP': ['Protect', 'Bolster', 'Pillage', '0', '1', '0', '0', '0', '0', '0', '0', '0', '0', '0', '0', '0', '0', '0', '0', '0', '1', '0', '0'], 'PBM': ['Protect', 'Bolster', 'Attack (Money)', '0', '0', '0', '0', '0', '1', '0', '0', '0', '0', '0', '0', '0', '0', '0', '0', '0', '1', '0', '0'], 'PBL': ['Protect', 'Bolster', 'Attack (Lives)', '0', '0', '0', '0', '0', '1', '0', '0', '0', '0', '0', '0', '0', '0', '0', '0', '0', '1', '0', '0'], 'PBB': ['Protect', 'Bolster', 'Bolster', '0', '0', '0', '0', '0', '0', '0', '0', '0', '0', '0', '0', '0', '0', '0', '0', '0', '1', '1', '0'], '1SS': ['Attack Clan #1', 'Siege', 'Siege', '0', '0', '1', '1', '0', '0', '0', '1', '1', '0', '0', '0', '0', '0', '0', '0', '0', '0', '0', '1'], '1SP': ['Attack Clan #1', 'Siege', 'Pillage', '0', '1', '1', '0', '0', '0', '0', '0', '1', '0', '0', '1', '0', '0', '0', '0', '0', '0', '0', '1'], '1SM': ['Attack Clan #1', 'Siege', 'Attack (Money)', '0', '0', '1', '0', '0', '1', '0', '0', '1', '0', '0', '0', '0', '1', '0', '0', '0', '0', '0', '1'], '1SL': ['Attack Clan #1', 'Siege', 'Attack (Lives)', '0', '0', '1', '0', '0', '1', '0', '0', '1', '0', '0', '0', '0', '0', '0', '1', '0', '0', '0', '1'], '1SB': ['Attack Clan #1', 'Siege', 'Bolster', '0', '0', '1', '0', '0', '0', '0', '0', '0', '0', '0', '0', '0', '0', '0', '0', '0', '0', '1', '1'], '1PS': ['Attack Clan #1', 'Pillage', 'Siege', '1', '0', '0', '1', '0', '0', '0', '1', '1', '0', '1', '0', '0', '0', '0', '0', '0', '0', '0', '0'], '1PP': ['Attack Clan #1', 'Pillage', 'Pillage', '1', '1', '0', '0', '0', '0', '0', '0', '1', '0', '1', '1', '0', '0', '0', '0', '0', '0', '0', '0'], '1PM': ['Attack Clan #1', 'Pillage', 'Attack (Money)', '1', '0', '0', '0', '0', '1', '0', '0', '1', '0', '1', '0', '0', '1', '0', '0', '0', '0', '0', '0'], '1PL': ['Attack Clan #1', 'Pillage', 'Attack (Lives)', '1', '0', '0', '0', '0', '1', '0', '0', '1', '0', '1', '0', '0', '0', '0', '1', '0', '0', '0', '0'], '1PB': ['Attack Clan #1', 'Pillage', 'Bolster', '1', '0', '0', '0', '0', '0', '0', '0', '0', '0', '1', '0', '0', '0', '0', '0', '0', '0', '1', '0'], '1MS': ['Attack Clan #1', 'Attack (Money)', 'Siege', '0', '0', '0', '1', '1', '0', '0', '1', '1', '0', '0', '0', '1', '0', '0', '0', '0', '0', '0', '0'], '1MP': ['Attack Clan #1', 'Attack (Money)', 'Pillage', '0', '1', '0', '0', '1', '0', '0', '0', '1', '0', '0', '1', '1', '0', '0', '0', '0', '0', '0', '0'], '1MM': ['Attack Clan #1', 'Attack (Money)', 'Attack (Money)', '0', '0', '0', '0', '1', '1', '0', '0', '1', '0', '0', '0', '1', '1', '0', '0', '0', '0', '0', '0'], '1ML': ['Attack Clan #1', 'Attack (Money)', 'Attack (Lives)', '0', '0', '0', '0', '1', '1', '0', '0', '1', '0', '0', '0', '1', '0', '0', '1', '0', '0', '0', '0'], '1MB': ['Attack Clan #1', 'Attack (Money)', 'Bolster', '0', '0', '0', '0', '1', '0', '0', '0', '0', '0', '0', '0', '0', '0', '0', '0', '0', '0', '1', '0'], '1LS': ['Attack Clan #1', 'Attack (Lives)', 'Siege', '0', '0', '0', '1', '1', '0', '0', '1', '1', '0', '0', '0', '0', '0', '1', '0', '0', '0', '0', '0'], '1LP': ['Attack Clan #1', 'Attack (Lives)', 'Pillage', '0', '1', '0', '0', '1', '0', '0', '0', '1', '0', '0', '1', '0', '0', '1', '0', '0', '0', '0', '0'], '1LM': ['Attack Clan #1', 'Attack (Lives)', 'Attack (Money)', '0', '0', '0', '0', '1', '1', '0', '0', '1', '0', '0', '0', '0', '1', '1', '0', '0', '0', '0', '0'], '1LL': ['Attack Clan #1', 'Attack (Lives)', 'Attack (Lives)', '0', '0', '0', '0', '1', '1', '0', '0', '1', '0', '0', '0', '0', '0', '1', '1', '0', '0', '0', '0'], '1LB': ['Attack Clan #1', 'Attack (Lives)', 'Bolster', '0', '0', '0', '0', '1', '0', '0', '0', '0', '0', '0', '0', '0', '0', '0', '0', '0', '0', '1', '0'], '1BS': ['Attack Clan #1', 'Bolster', 'Siege', '0', '0', '0', '1', '0', '0', '0', '1', '0', '0', '0', '0', '0', '0', '0', '0', '0', '1', '0', '0'], '1BP': ['Attack Clan #1', 'Bolster', 'Pillage', '0', '1', '0', '0', '0', '0', '0', '0', '0', '0', '0', '1', '0', '0', '0', '0', '0', '1', '0', '0'], '1BM': ['Attack Clan #1', 'Bolster', 'Attack (Money)', '0', '0', '0', '0', '0', '1', '0', '0', '0', '0', '0', '0', '0', '0', '0', '0', '0', '1', '0', '0'], '1BL': ['Attack Clan #1', 'Bolster', 'Attack (Lives)', '0', '0', '0', '0', '0', '1', '0', '0', '0', '0', '0', '0', '0', '0', '0', '0', '0', '1', '0', '0'], '1BB': ['Attack Clan #1', 'Bolster', 'Bolster', '0', '0', '0', '0', '0', '0', '0', '0', '0', '0', '0', '0', '0', '0', '0', '0', '0', '1', '1', '0'], '2SS': ['Attack Clan #2', 'Siege', 'Siege', '0', '0', '1', '1', '0', '0', '1', '0', '0', '1', '0', '0', '0', '0', '0', '0', '0', '0', '0', '1'], '2SP': ['Attack Clan #2', 'Siege', 'Pillage', '0', '1', '1', '0', '0', '0', '1', '0', '0', '1', '0', '1', '0', '0', '0', '0', '0', '0', '0', '0'], '2SM': ['Attack Clan #2', 'Siege', 'Attack (Money)', '0', '0', '1', '0', '0', '1', '1', '0', '0', '1', '0', '0', '0', '1', '0', '0', '0', '0', '0', '0'], '2SL': ['Attack Clan #2', 'Siege', 'Attack (Lives)', '0', '0', '1', '0', '0', '1', '1', '0', '0', '1', '0', '0', '0', '0', '0', '1', '0', '0', '0', '0'], '2SB': ['Attack Clan #2', 'Siege', 'Bolster', '0', '0', '1', '0', '0', '0', '1', '0', '0', '0', '0', '0', '0', '0', '0', '0', '0', '0', '1', '0'], '2PS': ['Attack Clan #2', 'Pillage', 'Siege', '1', '0', '0', '1', '0', '0', '0', '0', '0', '1', '1', '0', '0', '0', '0', '0', '0', '0', '0', '1'], '2PP': ['Attack Clan #2', 'Pillage', 'Pillage', '1', '1', '0', '0', '0', '0', '0', '0', '0', '1', '1', '1', '0', '0', '0', '0', '0', '0', '0', '0'], '2PM': ['Attack Clan #2', 'Pillage', 'Attack (Money)', '1', '0', '0', '0', '0', '1', '0', '0', '0', '1', '1', '0', '0', '1', '0', '0', '0', '0', '0', '0'], '2PL': ['Attack Clan #2', 'Pillage', 'Attack (Lives)', '1', '0', '0', '0', '0', '1', '0', '0', '0', '1', '1', '0', '0', '0', '0', '1', '0', '0', '0', '0'], '2PB': ['Attack Clan #2', 'Pillage', 'Bolster', '1', '0', '0', '0', '0', '0', '0', '0', '0', '0', '1', '0', '0', '0', '0', '0', '0', '0', '1', '0'], '2MS': ['Attack Clan #2', 'Attack (Money)', 'Siege', '0', '0', '0', '1', '1', '0', '0', '0', '0', '1', '0', '0', '1', '0', '0', '0', '0', '0', '0', '1'], '2MP': ['Attack Clan #2', 'Attack (Money)', 'Pillage', '0', '1', '0', '0', '1', '0', '0', '0', '0', '1', '0', '1', '1', '0', '0', '0', '0', '0', '0', '0'], '2MM': ['Attack Clan #2', 'Attack (Money)', 'Attack (Money)', '0', '0', '0', '0', '1', '1', '0', '0', '0', '1', '0', '0', '1', '1', '0', '0', '0', '0', '0', '0'], '2ML': ['Attack Clan #2', 'Attack (Money)', 'Attack (Lives)', '0', '0', '0', '0', '1', '1', '0', '0', '0', '1', '0', '0', '1', '0', '0', '1', '0', '0', '0', '0'], '2MB': ['Attack Clan #2', 'Attack (Money)', 'Bolster', '0', '0', '0', '0', '1', '0', '0', '0', '0', '0', '0', '0', '0', '0', '0', '0', '0', '0', '1', '0'], '2LS': ['Attack Clan #2', 'Attack (Lives)', 'Siege', '0', '0', '0', '1', '1', '0', '0', '0', '0', '1', '0', '0', '0', '0', '1', '0', '0', '0', '0', '1'], '2LP': ['Attack Clan #2', 'Attack (Lives)', 'Pillage', '0', '1', '0', '0', '1', '0', '0', '0', '0', '1', '0', '1', '0', '0', '1', '0', '0', '0', '0', '0'], '2LM': ['Attack Clan #2', 'Attack (Lives)', 'Attack (Money)', '0', '0', '0', '0', '1', '1', '0', '0', '0', '1', '0', '0', '0', '1', '1', '0', '0', '0', '0', '0'], '2LL': ['Attack Clan #2', 'Attack (Lives)', 'Attack (Lives)', '0', '0', '0', '0', '1', '1', '0', '0', '0', '1', '0', '0', '0', '0', '1', '1', '0', '0', '0', '0'], '2LB': ['Attack Clan #2', 'Attack (Lives)', 'Bolster', '0', '0', '0', '0', '1', '0', '0', '0', '0', '0', '0', '0', '0', '0', '0', '0', '0', '0', '1', '0'], '2BS': ['Attack Clan #2', 'Bolster', 'Siege', '0', '0', '0', '1', '0', '0', '0', '0', '0', '0', '0', '0', '0', '0', '0', '0', '0', '1', '0', '1'], '2BP': ['Attack Clan #2', 'Bolster', 'Pillage', '0', '1', '0', '0', '0', '0', '0', '0', '0', '0', '0', '1', '0', '0', '0', '0', '0', '1', '0', '0'], '2BM': ['Attack Clan #2', 'Bolster', 'Attack (Money)', '0', '0', '0', '0', '0', '1', '0', '0', '0', '0', '0', '0', '0', '0', '0', '0', '0', '1', '0', '0'], '2BL': ['Attack Clan #2', 'Bolster', 'Attack (Lives)', '0', '0', '0', '0', '0', '1', '0', '0', '0', '0', '0', '0', '0', '0', '0', '0', '0', '1', '0', '0'], '2BB': ['Attack Clan #2', 'Bolster', 'Bolster', '0', '0', '0', '0', '0', '0', '0', '0', '0', '0', '0', '0', '0', '0', '0', '0', '0', '1', '1', '0'], 'TSS': ['Tax', 'Siege', 'Siege', '0', '0', '1', '1', '0', '0', '1', '1', '0', '0', '0', '0', '0', '0', '0', '0', '1', '0', '0', '0'], 'TSP': ['Tax', 'Siege', 'Pillage', '0', '1', '1', '0', '0', '0', '0', '0', '0', '0', '0', '1', '0', '0', '0', '0', '1', '0', '0', '0'], 'TSM': ['Tax', 'Siege', 'Attack (Money)', '0', '0', '1', '0', '0', '1', '0', '0', '0', '0', '0', '0', '0', '1', '0', '0', '1', '0', '0', '0'], 'TSL': ['Tax', 'Siege', 'Attack (Lives)', '0', '0', '1', '0', '0', '1', '0', '0', '0', '0', '0', '0', '0', '0', '0', '1', '1', '0', '0', '0'], 'TSB': ['Tax', 'Siege', 'Bolster', '0', '0', '1', '0', '0', '0', '0', '0', '0', '0', '0', '0', '0', '0', '0', '0', '1', '0', '1', '0'], 'TPS': ['Tax', 'Pillage', 'Siege', '1', '0', '0', '1', '0', '0', '0', '0', '0', '0', '1', '0', '0', '0', '0', '0', '1', '0', '0', '0'], 'TPP': ['Tax', 'Pillage', 'Pillage', '1', '1', '0', '0', '0', '0', '0', '0', '0', '0', '1', '1', '0', '0', '0', '0', '1', '0', '0', '0'], 'TPM': ['Tax', 'Pillage', 'Attack (Money)', '1', '0', '0', '0', '0', '1', '0', '0', '0', '0', '1', '0', '0', '1', '0', '0', '1', '0', '0', '0'], 'TPL': ['Tax', 'Pillage', 'Attack (Lives)', '1', '0', '0', '0', '0', '1', '0', '0', '0', '0', '1', '0', '0', '0', '0', '1', '1', '0', '0', '0'], 'TPB': ['Tax', 'Pillage', 'Bolster', '1', '0', '0', '0', '0', '0', '0', '0', '0', '0', '1', '0', '0', '0', '0', '0', '1', '0', '1', '0'], 'TMS': ['Tax', 'Attack (Money)', 'Siege', '0', '0', '0', '1', '1', '0', '0', '0', '0', '0', '0', '0', '1', '0', '0', '0', '1', '0', '0', '0'], 'TMP': ['Tax', 'Attack (Money)', 'Pillage', '0', '1', '0', '0', '1', '0', '0', '0', '0', '0', '0', '1', '1', '0', '0', '0', '1', '0', '0', '0'], 'TMM': ['Tax', 'Attack (Money)', 'Attack (Money)', '0', '0', '0', '0', '1', '1', '0', '0', '0', '0', '0', '0', '1', '1', '0', '0', '1', '0', '0', '0'], 'TML': ['Tax', 'Attack (Money)', 'Attack (Lives)', '0', '0', '0', '0', '1', '1', '0', '0', '0', '0', '0', '0', '1', '0', '0', '1', '1', '0', '0', '0'], 'TMB': ['Tax', 'Attack (Money)', 'Bolster', '0', '0', '0', '0', '1', '0', '0', '0', '0', '0', '0', '0', '0', '0', '0', '0', '1', '0', '1', '0'], 'TLS': ['Tax', 'Attack (Lives)', 'Siege', '0', '0', '0', '1', '1', '0', '0', '0', '0', '0', '0', '0', '0', '0', '1', '0', '1', '0', '0', '0'], 'TLP': ['Tax', 'Attack (Lives)', 'Pillage', '0', '1', '0', '0', '1', '0', '0', '0', '0', '0', '0', '1', '0', '0', '1', '0', '1', '0', '0', '0'], 'TLM': ['Tax', 'Attack (Lives)', 'Attack (Money)', '0', '0', '0', '0', '1', '1', '0', '0', '0', '0', '0', '0', '0', '1', '1', '0', '1', '0', '0', '0'], 'TLL': ['Tax', 'Attack (Lives)', 'Attack (Lives)', '0', '0', '0', '0', '1', '1', '0', '0', '0', '0', '0', '0', '0', '0', '1', '1', '1', '0', '0', '0'], 'TLB': ['Tax', 'Attack (Lives)', 'Bolster', '0', '0', '0', '0', '1', '0', '0', '0', '0', '0', '0', '0', '0', '0', '0', '0', '1', '0', '1', '0'], 'TBS': ['Tax', 'Bolster', 'Siege', '0', '0', '0', '1', '0', '0', '0', '0', '0', '0', '0', '0', '0', '0', '0', '0', '1', '1', '0', '0'], 'TBP': ['Tax', 'Bolster', 'Pillage', '0', '1', '0', '0', '0', '0', '0', '0', '0', '0', '0', '1', '0', '0', '0', '0', '1', '1', '0', '0'], 'TBM': ['Tax', 'Bolster', 'Attack (Money)', '0', '0', '0', '0', '0', '1', '0', '0', '0', '0', '0', '0', '0', '0', '0', '0', '1', '1', '0', '0'], 'TBL': ['Tax', 'Bolster', 'Attack (Lives)', '0', '0', '0', '0', '0', '1', '0', '0', '0', '0', '0', '0', '0', '0', '0', '0', '1', '1', '0', '0'], 'TBB': ['Tax', 'Bolster', 'Bolster', '0', '0', '0', '0', '0', '0', '0', '0', '0', '0', '0', '0', '0', '0', '0', '0', '1', '1', '1', '0']}\n"
     ]
    }
   ],
   "source": [
    "print(turnOutcomes)"
   ]
  },
  {
   "cell_type": "code",
   "execution_count": 4,
   "metadata": {},
   "outputs": [],
   "source": [
    "## Settings\n",
    "KingStartingLives = 625\n",
    "KingStartingGold = 20000\n",
    "Clan1StartingLives = 400\n",
    "Clan1StartingGold = 0\n",
    "Clan2StartingLives = 400\n",
    "Clan2StartingGold = 0\n",
    "\n",
    "SiegeSuccessKingGoldLoss = 8000\n",
    "SiegeFailLifeClanLoss = 100\n",
    "PillageSuccessGoldGain = 1000\n",
    "PillageSuccessLifeGain = 25\n",
    "PillageSuccessKingLifeLoss = 75\n",
    "PillageFailClanLifeLoss = 50\n",
    "KingAttackClanLifeLoss = 150\n",
    "CounterAttackLifeLoss = 300\n",
    "ClanAttackSuccessClanLifeLoss = 50\n",
    "ClanAttackSuccessClanGoldAmount = 2000\n",
    "ClanAttackFailClanLifeLoss = 100\n",
    "KingTaxBase = 2500\n",
    "KingTaxPerVillager = 2\n",
    "BolsterLifeGain = 50\n",
    "BolsterCost = 500\n",
    "BolsterCostThreshold = 4000\n",
    "\n",
    "\n",
    "\n",
    "\n",
    "KingCurrentLives = KingStartingLives\n",
    "KingCurrentGold = KingStartingGold\n",
    "Clan1CurrentLives = Clan1StartingLives\n",
    "Clan1CurrentGold = Clan1StartingGold\n",
    "Clan2CurrentLives = Clan2StartingLives\n",
    "Clan2CurrentGold = Clan2StartingGold"
   ]
  },
  {
   "cell_type": "code",
   "execution_count": 5,
   "metadata": {
    "scrolled": true
   },
   "outputs": [
    {
     "name": "stdout",
     "output_type": "stream",
     "text": [
      "1 2 3\n",
      "0 0 1\n",
      "F P M\n",
      "FPM\n"
     ]
    }
   ],
   "source": [
    "import random\n",
    "\n",
    "KingAction = random.randint(1,4)\n",
    "Clan1Action = random.randint(1,4)\n",
    "Clan2Action = random.randint(1,4)\n",
    "\n",
    "if KingAction == 3:\n",
    "    KingAttack = random.randint(1,2)\n",
    "else:\n",
    "    KingAttack = 0\n",
    "    \n",
    "if Clan1Action == 3:\n",
    "    Clan1Attack = random.randint(1,2)\n",
    "else:\n",
    "    Clan1Attack = 0\n",
    "    \n",
    "if Clan2Action == 3:\n",
    "    Clan2Attack = random.randint(1,2)\n",
    "else:\n",
    "    Clan2Attack = 0\n",
    "\n",
    "print(KingAction, Clan1Action, Clan2Action)\n",
    "print(KingAttack, Clan1Attack, Clan2Attack)\n",
    "\n",
    "# Map Turn Action into turn key\n",
    "\n",
    "if KingAction == 1:\n",
    "    KingMove = 'F'\n",
    "if KingAction == 2:\n",
    "    KingMove = 'P'\n",
    "if KingAction == 3:\n",
    "    if KingAttack == 1:\n",
    "        KingMove = '1'\n",
    "    else:\n",
    "        KingMove = '2'\n",
    "if KingAction == 4:\n",
    "    KingMove = 'T'\n",
    "    \n",
    "if Clan1Action == 1:\n",
    "    Clan1Move = 'S'\n",
    "if Clan1Action == 2:\n",
    "    Clan1Move = 'P'\n",
    "if Clan1Action == 3:\n",
    "    if Clan1Attack == 1:\n",
    "        Clan1Move = 'M'\n",
    "    else:\n",
    "        Clan1Move = 'L'\n",
    "if Clan1Action == 4:\n",
    "    Clan1Move = 'B'\n",
    "\n",
    "if Clan2Action == 1:\n",
    "    Clan2Move = 'S'\n",
    "if Clan2Action == 2:\n",
    "    Clan2Move = 'P'\n",
    "if Clan2Action == 3:\n",
    "    if Clan2Attack == 1:\n",
    "        Clan2Move = 'M'\n",
    "    else:\n",
    "        Clan2Move = 'L'\n",
    "if Clan2Action == 4:\n",
    "    Clan2Move = 'B'\n",
    "    \n",
    "print(KingMove, Clan1Move, Clan2Move)\n",
    "\n",
    "turnKey = KingMove+Clan1Move+Clan2Move\n",
    "\n",
    "print(turnKey)"
   ]
  },
  {
   "cell_type": "code",
   "execution_count": 27,
   "metadata": {},
   "outputs": [],
   "source": [
    "## HARDCODE VALUES\n",
    "\n",
    "# Both Success in Siege\n",
    "#turnKey = 'TSS'\n",
    "# One success\n",
    "turnKey = '2LS'\n",
    "#turnKey = 'FBM'\n",
    "Clan1CurrentGold = 1000\n",
    "Clan2CurrentGold = 8000"
   ]
  },
  {
   "cell_type": "code",
   "execution_count": 28,
   "metadata": {},
   "outputs": [],
   "source": [
    "## King Life change = -Clan1PilAttempt * Clan1PilSuccess*Pillage Amount -Clan2PilAttempt * Clan2PilSuccess *PillageAmt\n",
    "## King Gold change = -max(Clan1SiegeAtt*Clan1SiegeSuccess,Clan2SiegeAtt*Clan2SiegeSuccess)*SiegeGold+KingTaxAtt*(BaseTax+PerHeadRate*CurrentLives)\n",
    "moves = turnOutcomes[turnKey]\n",
    "\n",
    "Clan1PillageAttempt = int(moves[3])\n",
    "Clan2PillageAttempt = int(moves[4])\n",
    "Clan1SiegeAttempt = int(moves[5])\n",
    "Clan2SiegeAttempt = int(moves[6])\n",
    "Clan1Attack2Attempt = int(moves[7])\n",
    "Clan2Attack1Attempt = int(moves[8])\n",
    "Clan1SiegeSuccess = int(moves[9])\n",
    "Clan2SiegeSuccess = int(moves[10])\n",
    "KingAttackClan1Success = int(moves[11])\n",
    "KingAttackClan2Success = int(moves[12])\n",
    "Clan1PillageSuccess = int(moves[13])\n",
    "Clan2PillageSuccess = int(moves[14])\n",
    "Clan1Attack2MoneySuccess = int(moves[15])\n",
    "Clan2Attack1MoneySuccess = int(moves[16])\n",
    "Clan1Attack2LifeSuccess = int(moves[17])\n",
    "Clan2Attack1LifeSuccess = int(moves[18])\n",
    "KingTax = int(moves[19])\n",
    "Clan1Bolster = int(moves[20])\n",
    "Clan2Bolster = int(moves[21])\n",
    "CounterAttackFlag = int(moves[22])"
   ]
  },
  {
   "cell_type": "code",
   "execution_count": 29,
   "metadata": {},
   "outputs": [],
   "source": [
    "## King Turn Outcomes\n",
    "\n",
    "KingLifeChange = -Clan1PillageAttempt*Clan1PillageSuccess*PillageSuccessKingLifeLoss-Clan2PillageAttempt*Clan2PillageSuccess*PillageSuccessKingLifeLoss\n",
    "KingGoldChange = -max(Clan1SiegeAttempt*Clan1SiegeSuccess,Clan2SiegeAttempt*Clan2SiegeSuccess)*SiegeSuccessKingGoldLoss+KingTax*(KingTaxBase+KingTaxPerVillager*KingCurrentLives)"
   ]
  },
  {
   "cell_type": "code",
   "execution_count": 30,
   "metadata": {},
   "outputs": [],
   "source": [
    "## Clan #1 Gold Changes\n",
    "\n",
    "# siege\n",
    "if Clan1SiegeAttempt*Clan1SiegeSuccess == 0:\n",
    "    Clan1SiegeGoldChange = 0\n",
    "else:\n",
    "    Clan1SiegeGoldChange = Clan1SiegeAttempt*Clan1SiegeSuccess*(SiegeSuccessKingGoldLoss/(Clan1SiegeAttempt*Clan1SiegeSuccess+Clan2SiegeAttempt*Clan2SiegeSuccess))\n",
    "# Pillage\n",
    "Clan1PillageGoldChange = Clan1PillageAttempt*Clan1PillageSuccess*PillageSuccessGoldGain\n",
    "# Attack\n",
    "\n",
    "if Clan1CurrentGold >= 2000 and Clan2CurrentGold >= 2000:\n",
    "    # if have enough money, do the cap\n",
    "    Clan1AttackGoldChange = Clan1Attack2Attempt*Clan1Attack2MoneySuccess*ClanAttackSuccessClanGoldAmount - Clan2Attack1Attempt*Clan2Attack1MoneySuccess*ClanAttackSuccessClanGoldAmount\n",
    "elif Clan1CurrentGold < 2000 and Clan2CurrentGold >= 2000:\n",
    "    Clan1AttackGoldChange = Clan1Attack2Attempt*Clan1Attack2MoneySuccess*ClanAttackSuccessClanGoldAmount - Clan2Attack1Attempt*Clan2Attack1MoneySuccess*Clan1CurrentGold\n",
    "elif Clan1CurrentGold >= 2000 and Clan2CurrentGold < 2000:\n",
    "    Clan1AttackGoldChange = Clan1Attack2Attempt*Clan1Attack2MoneySuccess*Clan2CurrentGold - Clan2Attack1Attempt*Clan2Attack1MoneySuccess*ClanAttackSuccessClanGoldAmount\n",
    "elif Clan1CurrentGold < 2000 and Clan2CurrentGold < 2000:\n",
    "    Clan1AttackGoldChange = Clan1Attack2Attempt*Clan1Attack2MoneySuccess*Clan2CurrentGold - Clan2Attack1Attempt*Clan2Attack1MoneySuccess*Clan1CurrentGold\n",
    "else:\n",
    "    # should be easy to identify if error\n",
    "    Clan1AttackGoldChange = 999999\n",
    "# Bolster\n",
    "if Clan1CurrentGold >=BolsterCostThreshold:\n",
    "    Clan1BolsterGoldChange = -Clan1Bolster*BolsterCost\n",
    "else:\n",
    "    Clan1BolsterGoldChange = 0\n",
    "    \n",
    "Clan1GoldChange = Clan1SiegeGoldChange+ Clan1PillageGoldChange+ Clan1AttackGoldChange+ Clan1BolsterGoldChange"
   ]
  },
  {
   "cell_type": "code",
   "execution_count": 31,
   "metadata": {},
   "outputs": [
    {
     "data": {
      "text/plain": [
       "0"
      ]
     },
     "execution_count": 31,
     "metadata": {},
     "output_type": "execute_result"
    }
   ],
   "source": [
    "Clan1GoldChange"
   ]
  },
  {
   "cell_type": "code",
   "execution_count": 32,
   "metadata": {},
   "outputs": [],
   "source": [
    "## Clan #2 Gold Changes\n",
    "\n",
    "# siege\n",
    "if Clan2SiegeAttempt*Clan2SiegeSuccess == 0:\n",
    "    Clan2SiegeGoldChange = 0\n",
    "else:\n",
    "    Clan2SiegeGoldChange = Clan2SiegeAttempt*Clan2SiegeSuccess*(SiegeSuccessKingGoldLoss/(Clan1SiegeAttempt*Clan1SiegeSuccess+Clan2SiegeAttempt*Clan2SiegeSuccess))\n",
    "# Pillage\n",
    "Clan2PillageGoldChange = Clan2PillageAttempt*Clan2PillageSuccess*PillageSuccessGoldGain\n",
    "# Attack\n",
    "\n",
    "if Clan1CurrentGold >= 2000 and Clan2CurrentGold >= 2000:\n",
    "    # if have enough money, do the cap\n",
    "    Clan2AttackGoldChange = -Clan1Attack2Attempt*Clan1Attack2MoneySuccess*ClanAttackSuccessClanGoldAmount + Clan2Attack1Attempt*Clan2Attack1MoneySuccess*ClanAttackSuccessClanGoldAmount\n",
    "elif Clan1CurrentGold < 2000 and Clan2CurrentGold >= 2000:\n",
    "    Clan2AttackGoldChange = -Clan1Attack2Attempt*Clan1Attack2MoneySuccess*ClanAttackSuccessClanGoldAmount + Clan2Attack1Attempt*Clan2Attack1MoneySuccess*Clan1CurrentGold\n",
    "elif Clan1CurrentGold >= 2000 and Clan2CurrentGold < 2000:\n",
    "    Clan2AttackGoldChange = -Clan1Attack2Attempt*Clan1Attack2MoneySuccess*Clan2CurrentGold + Clan2Attack1Attempt*Clan2Attack1MoneySuccess*ClanAttackSuccessClanGoldAmount\n",
    "elif Clan1CurrentGold < 2000 and Clan2CurrentGold < 2000:\n",
    "    Clan2AttackGoldChange = -Clan1Attack2Attempt*Clan1Attack2MoneySuccess*Clan2CurrentGold + Clan2Attack1Attempt*Clan2Attack1MoneySuccess*Clan1CurrentGold\n",
    "else:\n",
    "    # should be easy to identify if error\n",
    "    Clan2AttackGoldChange = 999999\n",
    "# Bolster\n",
    "if Clan2CurrentGold >=BolsterCostThreshold:\n",
    "    Clan2BolsterGoldChange = -Clan2Bolster*BolsterCost\n",
    "else:\n",
    "    Clan2BolsterGoldChange = 0\n",
    "    \n",
    "Clan2GoldChange = Clan2SiegeGoldChange+ Clan2PillageGoldChange+ Clan2AttackGoldChange+ Clan2BolsterGoldChange"
   ]
  },
  {
   "cell_type": "code",
   "execution_count": 33,
   "metadata": {},
   "outputs": [
    {
     "data": {
      "text/plain": [
       "0"
      ]
     },
     "execution_count": 33,
     "metadata": {},
     "output_type": "execute_result"
    }
   ],
   "source": [
    "Clan2GoldChange"
   ]
  },
  {
   "cell_type": "code",
   "execution_count": 34,
   "metadata": {},
   "outputs": [],
   "source": [
    "# Clan 1 life Change\n",
    "#siege\n",
    "Clan1SiegeLifeChange = -Clan1SiegeAttempt*(1-Clan1SiegeSuccess)*SiegeFailLifeClanLoss\n",
    "#pillage\n",
    "Clan1PillageLifeChange = -Clan1PillageAttempt*(1-Clan1PillageSuccess)*PillageFailClanLifeLoss+Clan1PillageAttempt*Clan1PillageSuccess*PillageSuccessLifeGain\n",
    "#attack\n",
    "Clan1AttackLifeChange = -Clan1Attack2Attempt*(1-(Clan1Attack2LifeSuccess+Clan1Attack2MoneySuccess))*ClanAttackFailClanLifeLoss-Clan2Attack1Attempt*Clan2Attack1LifeSuccess*ClanAttackSuccessClanLifeLoss\n",
    "#bolster\n",
    "Clan1BolsterLifeChange = Clan1Bolster*BolsterLifeGain\n",
    "#kingattack\n",
    "Clan1KingAttackLifeChange = -KingAttackClan1Success*KingAttackClanLifeLoss-KingAttackClan1Success*CounterAttackFlag*(CounterAttackLifeLoss-KingAttackClanLifeLoss-SiegeFailLifeClanLoss)\n",
    "\n",
    "Clan1LifeChange = Clan1SiegeLifeChange+ Clan1PillageLifeChange+ Clan1AttackLifeChange+ Clan1BolsterLifeChange+ Clan1KingAttackLifeChange"
   ]
  },
  {
   "cell_type": "code",
   "execution_count": 35,
   "metadata": {},
   "outputs": [],
   "source": [
    "# Clan 2 life Change\n",
    "#siege\n",
    "Clan2SiegeLifeChange = -Clan2SiegeAttempt*(1-Clan2SiegeSuccess)*SiegeFailLifeClanLoss\n",
    "#pillage\n",
    "Clan2PillageLifeChange = -Clan2PillageAttempt*(1-Clan2PillageSuccess)*PillageFailClanLifeLoss+Clan2PillageAttempt*Clan2PillageSuccess*PillageSuccessLifeGain\n",
    "#attack\n",
    "Clan2AttackLifeChange = -Clan2Attack1Attempt*(1-(Clan2Attack1LifeSuccess+Clan2Attack1MoneySuccess))*ClanAttackFailClanLifeLoss-Clan1Attack2Attempt*Clan1Attack2LifeSuccess*ClanAttackSuccessClanLifeLoss\n",
    "#bolster\n",
    "Clan2BolsterLifeChange = Clan2Bolster*BolsterLifeGain\n",
    "#kingattack\n",
    "Clan2KingAttackLifeChange = -KingAttackClan2Success*KingAttackClanLifeLoss-KingAttackClan2Success*CounterAttackFlag*(CounterAttackLifeLoss-KingAttackClanLifeLoss-SiegeFailLifeClanLoss)\n",
    "\n",
    "Clan2LifeChange = Clan2SiegeLifeChange+ Clan2PillageLifeChange+ Clan2AttackLifeChange+ Clan2BolsterLifeChange+ Clan2KingAttackLifeChange"
   ]
  },
  {
   "cell_type": "code",
   "execution_count": 36,
   "metadata": {},
   "outputs": [
    {
     "name": "stdout",
     "output_type": "stream",
     "text": [
      "-100 0 -50 0 -200\n"
     ]
    }
   ],
   "source": [
    "print(Clan2SiegeLifeChange,Clan2PillageLifeChange, Clan2AttackLifeChange, Clan2BolsterLifeChange, Clan2KingAttackLifeChange)"
   ]
  },
  {
   "cell_type": "code",
   "execution_count": null,
   "metadata": {},
   "outputs": [],
   "source": []
  },
  {
   "cell_type": "code",
   "execution_count": null,
   "metadata": {},
   "outputs": [],
   "source": []
  }
 ],
 "metadata": {
  "kernelspec": {
   "display_name": "Python 3",
   "language": "python",
   "name": "python3"
  },
  "language_info": {
   "codemirror_mode": {
    "name": "ipython",
    "version": 3
   },
   "file_extension": ".py",
   "mimetype": "text/x-python",
   "name": "python",
   "nbconvert_exporter": "python",
   "pygments_lexer": "ipython3",
   "version": "3.8.5"
  }
 },
 "nbformat": 4,
 "nbformat_minor": 4
}
