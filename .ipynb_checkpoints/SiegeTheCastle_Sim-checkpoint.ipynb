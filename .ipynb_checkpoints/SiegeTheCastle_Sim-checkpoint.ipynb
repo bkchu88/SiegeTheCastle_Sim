{
 "cells": [
  {
   "cell_type": "markdown",
   "metadata": {},
   "source": [
    "# Siege the Castle Sim Sandbox"
   ]
  },
  {
   "cell_type": "code",
   "execution_count": 3,
   "metadata": {},
   "outputs": [],
   "source": [
    "# Read in turn outcomes and put into dictionary\n",
    "\n",
    "import csv\n",
    "reader = csv.reader(open('C:\\\\Users\\\\brian\\\\Documents\\\\GitHub\\\\SiegeTheCastle_Sim\\\\01_load\\\\load.csv'))\n",
    "\n",
    "turnOutcomes = {}\n",
    "for row in reader:\n",
    "    key = row[0]\n",
    "    if key in turnOutcomes:\n",
    "        # implement your duplicate row handling here\n",
    "        pass\n",
    "    turnOutcomes[key] = row[1:]"
   ]
  },
  {
   "cell_type": "code",
   "execution_count": null,
   "metadata": {},
   "outputs": [],
   "source": []
  },
  {
   "cell_type": "code",
   "execution_count": 4,
   "metadata": {},
   "outputs": [
    {
     "name": "stdout",
     "output_type": "stream",
     "text": [
      "625 20000 400 0 400 0\n"
     ]
    }
   ],
   "source": [
    "# Set Initial Values / Settings\n",
    "\n",
    "KingStartingLives = 625\n",
    "KingStartingGold = 20000\n",
    "Clan1StartingLives = 400\n",
    "Clan1StartingGold = 0\n",
    "Clan2StartingLives = 400\n",
    "Clan2StartingGold = 0\n",
    "print(KingStartingLives, KingStartingGold, Clan1StartingLives, Clan1StartingGold, Clan2StartingLives, Clan2StartingGold)"
   ]
  },
  {
   "cell_type": "code",
   "execution_count": 5,
   "metadata": {},
   "outputs": [
    {
     "name": "stdout",
     "output_type": "stream",
     "text": [
      "625 20000 400 0 400 0\n",
      "0 0 0 0\n"
     ]
    }
   ],
   "source": [
    "# Set Load Current Values at start of round\n",
    "KingCurrentLives = KingStartingLives\n",
    "KingCurrentGold = KingStartingGold\n",
    "Clan1CurrentLives = Clan1StartingLives\n",
    "Clan1CurrentGold = Clan1StartingGold\n",
    "Clan2CurrentLives = Clan2StartingLives\n",
    "Clan2CurrentGold = Clan2StartingGold\n",
    "print(KingCurrentLives, KingCurrentGold, Clan1CurrentLives, Clan1CurrentGold, Clan2CurrentLives, Clan2CurrentGold)\n",
    "\n",
    "EndKingLife = 0\n",
    "EndKingGold = 0\n",
    "EndClan1Life = 0\n",
    "EndClan2Life = 0\n",
    "print(EndKingLife,EndKingGold,EndClan1Life, EndClan2Life)"
   ]
  },
  {
   "cell_type": "code",
   "execution_count": 6,
   "metadata": {},
   "outputs": [
    {
     "name": "stdout",
     "output_type": "stream",
     "text": [
      "3 4 3\n",
      "2 0 1\n",
      "2 B M\n",
      "2BM\n"
     ]
    }
   ],
   "source": [
    "# Generate Turn Actions\n",
    "\n",
    "import random\n",
    "\n",
    "KingAction = random.randint(1,4)\n",
    "Clan1Action = random.randint(1,4)\n",
    "Clan2Action = random.randint(1,4)\n",
    "\n",
    "if KingAction == 3:\n",
    "    KingAttack = random.randint(1,2)\n",
    "else:\n",
    "    KingAttack = 0\n",
    "    \n",
    "if Clan1Action == 3:\n",
    "    Clan1Attack = random.randint(1,2)\n",
    "else:\n",
    "    Clan1Attack = 0\n",
    "    \n",
    "if Clan2Action == 3:\n",
    "    Clan2Attack = random.randint(1,2)\n",
    "else:\n",
    "    Clan2Attack = 0\n",
    "\n",
    "print(KingAction, Clan1Action, Clan2Action)\n",
    "print(KingAttack, Clan1Attack, Clan2Attack)\n",
    "\n",
    "# Map Turn Action into turn key\n",
    "\n",
    "if KingAction == 1:\n",
    "    KingMove = 'F'\n",
    "if KingAction == 2:\n",
    "    KingMove = 'P'\n",
    "if KingAction == 3:\n",
    "    if KingAttack == 1:\n",
    "        KingMove = '1'\n",
    "    else:\n",
    "        KingMove = '2'\n",
    "if KingAction == 4:\n",
    "    KingMove = 'T'\n",
    "    \n",
    "if Clan1Action == 1:\n",
    "    Clan1Move = 'S'\n",
    "if Clan1Action == 2:\n",
    "    Clan1Move = 'P'\n",
    "if Clan1Action == 3:\n",
    "    if Clan1Attack == 1:\n",
    "        Clan1Move = 'M'\n",
    "    else:\n",
    "        Clan1Move = 'L'\n",
    "if Clan1Action == 4:\n",
    "    Clan1Move = 'B'\n",
    "\n",
    "if Clan2Action == 1:\n",
    "    Clan2Move = 'S'\n",
    "if Clan2Action == 2:\n",
    "    Clan2Move = 'P'\n",
    "if Clan2Action == 3:\n",
    "    if Clan2Attack == 1:\n",
    "        Clan2Move = 'M'\n",
    "    else:\n",
    "        Clan2Move = 'L'\n",
    "if Clan2Action == 4:\n",
    "    Clan2Move = 'B'\n",
    "    \n",
    "print(KingMove, Clan1Move, Clan2Move)\n",
    "\n",
    "turnKey = KingMove+Clan1Move+Clan2Move\n",
    "\n",
    "print(turnKey)"
   ]
  },
  {
   "cell_type": "code",
   "execution_count": 7,
   "metadata": {},
   "outputs": [
    {
     "name": "stdout",
     "output_type": "stream",
     "text": [
      "['Attack Clan #2', 'Bolster', 'Attack (Money)', '0', '0', '50', '0', '-100', '0']\n",
      "0 0 50 0 -100 0\n"
     ]
    }
   ],
   "source": [
    "# pull turn outcomes from dictionary using turnKey\n",
    "\n",
    "moves = turnOutcomes[turnKey]\n",
    "\n",
    "print(moves)\n",
    "\n",
    "KingLivesChange = int(moves[3])\n",
    "KingGoldChange = int(moves[4])\n",
    "Clan1LivesChange = int(moves[5])\n",
    "Clan1GoldChange = int(moves[6])\n",
    "Clan2LivesChange = int(moves[7])\n",
    "Clan2GoldChange = int(moves[8])\n",
    "\n",
    "print(KingLivesChange, KingGoldChange, Clan1LivesChange, Clan1GoldChange, Clan2LivesChange, Clan2GoldChange)"
   ]
  },
  {
   "cell_type": "code",
   "execution_count": 8,
   "metadata": {},
   "outputs": [
    {
     "name": "stdout",
     "output_type": "stream",
     "text": [
      "['KingAction', 'Action1', 'Action2', 'KingLifeChange', 'KingMoneyChange', 'LifeChange1', 'MoneyChange1', 'LifeChange2', 'MoneyChange2']\n"
     ]
    }
   ],
   "source": [
    "print(turnOutcomes['Key'])"
   ]
  },
  {
   "cell_type": "code",
   "execution_count": 9,
   "metadata": {
    "scrolled": true
   },
   "outputs": [
    {
     "name": "stdout",
     "output_type": "stream",
     "text": [
      "625 20000 450 0 300 0\n"
     ]
    }
   ],
   "source": [
    "# Apply Turn Outcome\n",
    "KingCurrentLives += KingLivesChange\n",
    "KingCurrentGold += KingGoldChange\n",
    "Clan1CurrentLives += Clan1LivesChange\n",
    "Clan1CurrentGold += Clan1GoldChange\n",
    "Clan2CurrentLives += Clan2LivesChange\n",
    "Clan2CurrentGold += Clan2GoldChange\n",
    "print(KingCurrentLives, KingCurrentGold, Clan1CurrentLives, Clan1CurrentGold, Clan2CurrentLives, Clan2CurrentGold)"
   ]
  },
  {
   "cell_type": "code",
   "execution_count": 10,
   "metadata": {},
   "outputs": [],
   "source": [
    "# Check if end game scenario is met\n",
    "    \n",
    "if KingCurrentLives <= 0:\n",
    "    EndKingLife = 1\n",
    "if KingCurrentGold <= 0:\n",
    "    EndKingGold = 1\n",
    "if Clan1CurrentLives <= 0:\n",
    "    EndClan1Life = 1\n",
    "if Clan2CurrentLives <= 0:\n",
    "    EndClan2Life = 1\n",
    "    \n"
   ]
  },
  {
   "cell_type": "markdown",
   "metadata": {},
   "source": [
    "TO DO:\n",
    "- build functions out of above\n",
    "- build function to check for win condition\n",
    "- build loop to run until win condition\n",
    "- build ability to write # of turns, win condition\n",
    "- build ability to log individual turns within game\n",
    "\n",
    "IMPROVEMENTS:\n",
    "- pass in flags from excel spreadsheet, and do calculation in python so we can factor in the current values\n",
    "- improve probability"
   ]
  },
  {
   "cell_type": "markdown",
   "metadata": {},
   "source": [
    "# Model 1:\n",
    "Rules/Assumptions\n",
    "- 3 player game\n",
    "- 25% percent chance between 4 move options\n",
    "    - 50% for attack options\n",
    "- no bolster charge\n",
    "- no tax is always worth 3750 gold (2500 + 625*2)\n",
    "- default settings"
   ]
  },
  {
   "cell_type": "code",
   "execution_count": 78,
   "metadata": {},
   "outputs": [],
   "source": [
    "NumberOfSimulatedGames = 1000"
   ]
  },
  {
   "cell_type": "code",
   "execution_count": 79,
   "metadata": {
    "scrolled": true
   },
   "outputs": [],
   "source": [
    "import random\n",
    "import pandas as pd\n",
    "\n",
    "# Read in turn outcomes and put into dictionary\n",
    "\n",
    "import csv\n",
    "reader = csv.reader(open('C:\\\\Users\\\\brian\\\\Documents\\\\GitHub\\\\SiegeTheCastle_Sim\\\\01_load\\\\load.csv'))\n",
    "\n",
    "turnOutcomes = {}\n",
    "for row in reader:\n",
    "    key = row[0]\n",
    "    if key in turnOutcomes:\n",
    "        # implement your duplicate row handling here\n",
    "        pass\n",
    "    turnOutcomes[key] = row[1:]\n",
    "\n",
    "# Create DataFrames\n",
    "dfTurns = pd.DataFrame(columns=['Game', 'Turn', 'Actions'])\n",
    "dfGames = pd.DataFrame(columns=['Game','NumTurns','EndKingLife','EndKingGold','EndClan1Life','EndClan2Life'])\n",
    "\n",
    "# Set Initial Values / Settings\n",
    "\n",
    "KingStartingLives = 625\n",
    "KingStartingGold = 20000\n",
    "Clan1StartingLives = 400\n",
    "Clan1StartingGold = 0\n",
    "Clan2StartingLives = 400\n",
    "Clan2StartingGold = 0\n",
    "#print(KingStartingLives, KingStartingGold, Clan1StartingLives, Clan1StartingGold, Clan2StartingLives, Clan2StartingGold)\n",
    "\n",
    "##### START GAME LOOPS\n",
    "GameCount = 1\n",
    "\n",
    "while GameCount <= NumberOfSimulatedGames:\n",
    "\n",
    "    # Set Load Current Values at start of round\n",
    "    KingCurrentLives = KingStartingLives\n",
    "    KingCurrentGold = KingStartingGold\n",
    "    Clan1CurrentLives = Clan1StartingLives\n",
    "    Clan1CurrentGold = Clan1StartingGold\n",
    "    Clan2CurrentLives = Clan2StartingLives\n",
    "    Clan2CurrentGold = Clan2StartingGold\n",
    "    #print(KingCurrentLives, KingCurrentGold, Clan1CurrentLives, Clan1CurrentGold, Clan2CurrentLives, Clan2CurrentGold)\n",
    "\n",
    "    # Set End Game Condition Flags\n",
    "    EndKingLife = 0\n",
    "    EndKingGold = 0\n",
    "    EndClan1Life = 0\n",
    "    EndClan2Life = 0\n",
    "    #print(EndKingLife,EndKingGold,EndClan1Life, EndClan2Life)\n",
    "\n",
    "    ### START TURN LOOP\n",
    "    TurnCount = 1\n",
    "\n",
    "    while EndKingLife+EndKingGold+EndClan1Life+EndClan2Life == 0:\n",
    "        #print(TurnCount)\n",
    "        #### Generate a Turn Action\n",
    "\n",
    "        KingAction = random.randint(1,4)\n",
    "        Clan1Action = random.randint(1,4)\n",
    "        Clan2Action = random.randint(1,4)\n",
    "\n",
    "        if KingAction == 3:\n",
    "            KingAttack = random.randint(1,2)\n",
    "        else:\n",
    "            KingAttack = 0\n",
    "\n",
    "        if Clan1Action == 3:\n",
    "            Clan1Attack = random.randint(1,2)\n",
    "        else:\n",
    "            Clan1Attack = 0\n",
    "\n",
    "        if Clan2Action == 3:\n",
    "            Clan2Attack = random.randint(1,2)\n",
    "        else:\n",
    "            Clan2Attack = 0\n",
    "\n",
    "        #print(KingAction, Clan1Action, Clan2Action)\n",
    "        #print(KingAttack, Clan1Attack, Clan2Attack)\n",
    "\n",
    "        # Map Turn Action into turn key\n",
    "\n",
    "        if KingAction == 1:\n",
    "            KingMove = 'F'\n",
    "        if KingAction == 2:\n",
    "            KingMove = 'P'\n",
    "        if KingAction == 3:\n",
    "            if KingAttack == 1:\n",
    "                KingMove = '1'\n",
    "            else:\n",
    "                KingMove = '2'\n",
    "        if KingAction == 4:\n",
    "            KingMove = 'T'\n",
    "\n",
    "        if Clan1Action == 1:\n",
    "            Clan1Move = 'S'\n",
    "        if Clan1Action == 2:\n",
    "            Clan1Move = 'P'\n",
    "        if Clan1Action == 3:\n",
    "            if Clan1Attack == 1:\n",
    "                Clan1Move = 'M'\n",
    "            else:\n",
    "                Clan1Move = 'L'\n",
    "        if Clan1Action == 4:\n",
    "            Clan1Move = 'B'\n",
    "\n",
    "        if Clan2Action == 1:\n",
    "            Clan2Move = 'S'\n",
    "        if Clan2Action == 2:\n",
    "            Clan2Move = 'P'\n",
    "        if Clan2Action == 3:\n",
    "            if Clan2Attack == 1:\n",
    "                Clan2Move = 'M'\n",
    "            else:\n",
    "                Clan2Move = 'L'\n",
    "        if Clan2Action == 4:\n",
    "            Clan2Move = 'B'\n",
    "\n",
    "        #print(KingMove, Clan1Move, Clan2Move)\n",
    "\n",
    "        turnKey = KingMove+Clan1Move+Clan2Move\n",
    "\n",
    "        #print(turnKey)\n",
    "\n",
    "        # pull turn outcomes from dictionary using turnKey\n",
    "\n",
    "        moves = turnOutcomes[turnKey]\n",
    "\n",
    "        #print(moves)\n",
    "\n",
    "        KingLivesChange = int(moves[3])\n",
    "        KingGoldChange = int(moves[4])\n",
    "        Clan1LivesChange = int(moves[5])\n",
    "        Clan1GoldChange = int(moves[6])\n",
    "        Clan2LivesChange = int(moves[7])\n",
    "        Clan2GoldChange = int(moves[8])\n",
    "\n",
    "        #print(KingLivesChange, KingGoldChange, Clan1LivesChange, Clan1GoldChange, Clan2LivesChange, Clan2GoldChange)\n",
    "\n",
    "        # Apply Turn Outcome\n",
    "        KingCurrentLives += KingLivesChange\n",
    "        KingCurrentGold += KingGoldChange\n",
    "        Clan1CurrentLives += Clan1LivesChange\n",
    "        Clan1CurrentGold += Clan1GoldChange\n",
    "        Clan2CurrentLives += Clan2LivesChange\n",
    "        Clan2CurrentGold += Clan2GoldChange\n",
    "        #print(KingCurrentLives, KingCurrentGold, Clan1CurrentLives, Clan1CurrentGold, Clan2CurrentLives, Clan2CurrentGold)\n",
    "\n",
    "        if KingCurrentLives <= 0:\n",
    "            EndKingLife = 1\n",
    "        if KingCurrentGold <= 0:\n",
    "            EndKingGold = 1\n",
    "        if Clan1CurrentLives <= 0:\n",
    "            EndClan1Life = 1\n",
    "        if Clan2CurrentLives <= 0:\n",
    "            EndClan2Life = 1\n",
    "\n",
    "        dfTurnsTemp = pd.DataFrame([[GameCount,TurnCount,turnKey]],columns=['Game', 'Turn', 'Actions'])\n",
    "        dfTurns = dfTurns.append(dfTurnsTemp)\n",
    "        # increment Turn Count\n",
    "        TurnCount += 1\n",
    "\n",
    "        #print(KingCurrentLives, KingCurrentGold, Clan1CurrentLives, Clan1CurrentGold, Clan2CurrentLives, Clan2CurrentGold)\n",
    "\n",
    "####### TURN LOOP END\n",
    "\n",
    "    dfGamesTemp = pd.DataFrame([[GameCount,TurnCount,EndKingLife,EndKingGold,EndClan1Life,EndClan2Life]], columns=['Game','NumTurns','EndKingLife','EndKingGold','EndClan1Life','EndClan2Life'])\n",
    "    dfGames = dfGames.append(dfGamesTemp)\n",
    "    \n",
    "    GameCount += 1\n",
    "\n",
    "###### GAME LOOP END\n"
   ]
  },
  {
   "cell_type": "code",
   "execution_count": 80,
   "metadata": {},
   "outputs": [
    {
     "name": "stdout",
     "output_type": "stream",
     "text": [
      "Average Turns: 10.634\n",
      "Games Ended by King Running Out of Life: 128\n",
      "Games Ended by King Running Out of Gold: 32\n",
      "Games Ended by Clan 1 Running out of Life: 435\n",
      "Games Ended by Clan 2 Running out of Life: 440\n"
     ]
    }
   ],
   "source": [
    "print('Average Turns: '+ str(dfGames['NumTurns'].mean()))\n",
    "print('Games Ended by King Running Out of Life: '+ str(dfGames['EndKingLife'].sum()))\n",
    "print('Games Ended by King Running Out of Gold: '+ str(dfGames['EndKingGold'].sum()))\n",
    "print('Games Ended by Clan 1 Running out of Life: '+ str(dfGames['EndClan1Life'].sum()))\n",
    "print('Games Ended by Clan 2 Running out of Life: '+ str(dfGames['EndClan2Life'].sum()))"
   ]
  }
 ],
 "metadata": {
  "kernelspec": {
   "display_name": "Python 3",
   "language": "python",
   "name": "python3"
  },
  "language_info": {
   "codemirror_mode": {
    "name": "ipython",
    "version": 3
   },
   "file_extension": ".py",
   "mimetype": "text/x-python",
   "name": "python",
   "nbconvert_exporter": "python",
   "pygments_lexer": "ipython3",
   "version": "3.8.5"
  }
 },
 "nbformat": 4,
 "nbformat_minor": 4
}
