{
 "cells": [
  {
   "cell_type": "markdown",
   "metadata": {},
   "source": [
    "# Siege the Castle Sim"
   ]
  },
  {
   "cell_type": "code",
   "execution_count": 3,
   "metadata": {},
   "outputs": [],
   "source": [
    "# Read in turn outcomes and put into dictionary\n",
    "\n",
    "import csv\n",
    "reader = csv.reader(open('C:\\\\Users\\\\brian\\\\Documents\\\\GitHub\\\\SiegeTheCastle_Sim\\\\01_load\\\\load.csv'))\n",
    "\n",
    "turnOutcomes = {}\n",
    "for row in reader:\n",
    "    key = row[0]\n",
    "    if key in turnOutcomes:\n",
    "        # implement your duplicate row handling here\n",
    "        pass\n",
    "    turnOutcomes[key] = row[1:]"
   ]
  },
  {
   "cell_type": "code",
   "execution_count": 37,
   "metadata": {},
   "outputs": [
    {
     "name": "stdout",
     "output_type": "stream",
     "text": [
      "4 2 1\n",
      "0 0 0\n",
      "T P S\n",
      "TPS\n"
     ]
    }
   ],
   "source": [
    "# Generate Turn Actions\n",
    "\n",
    "import random\n",
    "\n",
    "KingAction = random.randint(1,4)\n",
    "Clan1Action = random.randint(1,4)\n",
    "Clan2Action = random.randint(1,4)\n",
    "\n",
    "if KingAction == 3:\n",
    "    KingAttack = random.randint(1,2)\n",
    "else:\n",
    "    KingAttack = 0\n",
    "    \n",
    "if Clan1Action == 3:\n",
    "    Clan1Attack = random.randint(1,2)\n",
    "else:\n",
    "    Clan1Attack = 0\n",
    "    \n",
    "if Clan2Action == 3:\n",
    "    Clan2Attack = random.randint(1,2)\n",
    "else:\n",
    "    Clan2Attack = 0\n",
    "\n",
    "print(KingAction, Clan1Action, Clan2Action)\n",
    "print(KingAttack, Clan1Attack, Clan2Attack)\n",
    "\n",
    "# Map Turn Action into turn key\n",
    "\n",
    "if KingAction == 1:\n",
    "    KingMove = 'F'\n",
    "if KingAction == 2:\n",
    "    KingMove = 'P'\n",
    "if KingAction == 3:\n",
    "    if KingAttack == 1:\n",
    "        KingMove = '1'\n",
    "    else:\n",
    "        KingMove = '2'\n",
    "if KingAction == 4:\n",
    "    KingMove = 'T'\n",
    "    \n",
    "if Clan1Action == 1:\n",
    "    Clan1Move = 'S'\n",
    "if Clan1Action == 2:\n",
    "    Clan1Move = 'P'\n",
    "if Clan1Action == 3:\n",
    "    if Clan1Attack == 1:\n",
    "        Clan1Move = 'M'\n",
    "    else:\n",
    "        Clan1Attack = 'L'\n",
    "if Clan1Action == 4:\n",
    "    Clan1Move = 'B'\n",
    "\n",
    "if Clan2Action == 1:\n",
    "    Clan2Move = 'S'\n",
    "if Clan2Action == 2:\n",
    "    Clan2Move = 'P'\n",
    "if Clan2Action == 3:\n",
    "    if Clan2Attack == 1:\n",
    "        Clan2Move = 'M'\n",
    "    else:\n",
    "        Clan2Attack = 'L'\n",
    "if Clan2Action == 4:\n",
    "    Clan2Move = 'B'\n",
    "    \n",
    "print(KingMove, Clan1Move, Clan2Move)\n",
    "\n",
    "turnKey = KingMove+Clan1Move+Clan2Move\n",
    "\n",
    "print(turnKey)"
   ]
  },
  {
   "cell_type": "code",
   "execution_count": 63,
   "metadata": {},
   "outputs": [
    {
     "name": "stdout",
     "output_type": "stream",
     "text": [
      "['Tax', 'Pillage', 'Siege', '-75', '3750', '25', '1000', '-100', '0']\n",
      "-75 3750 25 1000 -100 0\n"
     ]
    }
   ],
   "source": [
    "# pull turn outcomes from dictionary using turnKey\n",
    "\n",
    "moves = turnOutcomes[turnKey]\n",
    "\n",
    "print(moves)\n",
    "\n",
    "KingLivesChange = int(moves[3])\n",
    "KingGoldChange = int(moves[4])\n",
    "Clan1LivesChange = int(moves[5])\n",
    "Clan1GoldChange = int(moves[6])\n",
    "Clan2LivesChange = int(moves[7])\n",
    "Clan2GoldChange = int(moves[8])\n",
    "\n",
    "print(KingLivesChange, KingGoldChange, Clan1LivesChange, Clan1GoldChange, Clan2LivesChange, Clan2GoldChange)"
   ]
  },
  {
   "cell_type": "code",
   "execution_count": 51,
   "metadata": {},
   "outputs": [
    {
     "name": "stdout",
     "output_type": "stream",
     "text": [
      "['KingAction', 'Action1', 'Action2', 'KingLifeChange', 'KingMoneyChange', 'LifeChange1', 'MoneyChange1', 'LifeChange2', 'MoneyChange2']\n"
     ]
    }
   ],
   "source": [
    "print(turnOutcomes['Key'])"
   ]
  },
  {
   "cell_type": "code",
   "execution_count": 64,
   "metadata": {},
   "outputs": [
    {
     "name": "stdout",
     "output_type": "stream",
     "text": [
      "625 20000 400 0 400 0\n"
     ]
    }
   ],
   "source": [
    "# Set Initial Values\n",
    "\n",
    "KingStartingLives = 625\n",
    "KingStartingGold = 20000\n",
    "Clan1StartingLives = 400\n",
    "Clan1StartingGold = 0\n",
    "Clan2StartingLives = 400\n",
    "Clan2StartingGold = 0\n",
    "print(KingStartingLives, KingStartingGold, Clan1StartingLives, Clan1StartingGold, Clan2StartingLives, Clan2StartingGold)"
   ]
  },
  {
   "cell_type": "code",
   "execution_count": 65,
   "metadata": {},
   "outputs": [
    {
     "name": "stdout",
     "output_type": "stream",
     "text": [
      "625 20000 400 0 400 0\n"
     ]
    }
   ],
   "source": [
    "# Set Load Current Values at start\n",
    "KingCurrentLives = KingStartingLives\n",
    "KingCurrentGold = KingStartingGold\n",
    "Clan1CurrentLives = Clan1StartingLives\n",
    "Clan1CurrentGold = Clan1StartingGold\n",
    "Clan2CurrentLives = Clan2StartingLives\n",
    "Clan2CurrentGold = Clan2StartingGold\n",
    "print(KingCurrentLives, KingCurrentGold, Clan1CurrentLives, Clan1CurrentGold, Clan2CurrentLives, Clan2CurrentGold)"
   ]
  },
  {
   "cell_type": "code",
   "execution_count": 66,
   "metadata": {},
   "outputs": [
    {
     "name": "stdout",
     "output_type": "stream",
     "text": [
      "550 23750 425 1000 300 0\n"
     ]
    }
   ],
   "source": [
    "# Apply Turn Outcome\n",
    "KingCurrentLives += KingLivesChange\n",
    "KingCurrentGold += KingGoldChange\n",
    "Clan1CurrentLives += Clan1LivesChange\n",
    "Clan1CurrentGold += Clan1GoldChange\n",
    "Clan2CurrentLives += Clan2LivesChange\n",
    "Clan2CurrentGold += Clan2GoldChange\n",
    "print(KingCurrentLives, KingCurrentGold, Clan1CurrentLives, Clan1CurrentGold, Clan2CurrentLives, Clan2CurrentGold)"
   ]
  },
  {
   "cell_type": "code",
   "execution_count": null,
   "metadata": {},
   "outputs": [],
   "source": []
  },
  {
   "cell_type": "code",
   "execution_count": null,
   "metadata": {},
   "outputs": [],
   "source": []
  },
  {
   "cell_type": "code",
   "execution_count": null,
   "metadata": {},
   "outputs": [],
   "source": []
  }
 ],
 "metadata": {
  "kernelspec": {
   "display_name": "Python 3",
   "language": "python",
   "name": "python3"
  },
  "language_info": {
   "codemirror_mode": {
    "name": "ipython",
    "version": 3
   },
   "file_extension": ".py",
   "mimetype": "text/x-python",
   "name": "python",
   "nbconvert_exporter": "python",
   "pygments_lexer": "ipython3",
   "version": "3.8.5"
  }
 },
 "nbformat": 4,
 "nbformat_minor": 4
}
